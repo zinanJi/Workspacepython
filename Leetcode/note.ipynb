{
 "cells": [
  {
   "cell_type": "markdown",
   "metadata": {},
   "source": [
    "# 二分查找：\n",
    "### 排序数组+目标值\n",
    "### 左右边界low, high =  0, n-1 or low, high = 1, n\n",
    "### 写成 while(low < high) ，退出循环的时候有 low == high 成立\n",
    "### 区间[low ... high]划分，正常考虑前两个:\n",
    "#### 分成 [low ... mid - 1] , mid和[mid + 1 ... high]，分别对应 high = mid - 1 和 low = mid + 1\n",
    "#### 分成 [low ... mid] 和 [mid + 1 ... high]，分别对应 high = mid 和 low = mid + 1\n",
    "#### 分成 [low ...mid - 1] 和 [mid ... high]，分别对应 high = mid - 1 和 low = mid\n"
   ]
  }
 ],
 "metadata": {
  "language_info": {
   "name": "python"
  },
  "orig_nbformat": 4
 },
 "nbformat": 4,
 "nbformat_minor": 2
}
