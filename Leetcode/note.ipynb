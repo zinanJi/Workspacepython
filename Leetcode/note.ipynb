{
 "cells": [
  {
   "cell_type": "markdown",
   "metadata": {},
   "source": [
    "# 二分查找：\n",
    "### 排序数组+目标值\n",
    "### 左右边界low, high =  0, n-1 or low, high = 1, n\n",
    "### 写成 while(low < high) ，退出循环的时候有 low == high 成立\n",
    "### 区间[low ... high]划分，正常考虑前两个:\n",
    "#### 分成 [low ... mid - 1] , mid和[mid + 1 ... high]，分别对应 high = mid - 1 和 low = mid + 1\n",
    "#### 分成 [low ... mid] 和 [mid + 1 ... high]，分别对应 high = mid 和 low = mid + 1\n",
    "#### 分成 [low ...mid - 1] 和 [mid ... high]，分别对应 high = mid - 1 和 low = mid\n"
   ]
  },
  {
   "cell_type": "markdown",
   "metadata": {},
   "source": [
    "# 双指针\n",
    "### 滑动窗口与双指针是基于暴力解法的优化，将时间复杂度降到线性，解题时的关键是定义好循环不变量。\n",
    "### 注意构思好两个指针分别指向的位置\n",
    "#### 如左指针指向当前已经处理好的序列的尾部，右指针指向待处理序列的头部\n",
    "#### 如初始时两个指针分别指向第一个元素位置和最后一个元素的位置\n",
    "\n",
    "#### 11. 盛最多水的容器\n",
    "#### 15. 三数之和"
   ]
  },
  {
   "cell_type": "markdown",
   "metadata": {},
   "source": [
    "# 广度优先搜索\n",
    "### 问题包括树、图的广度优先搜索，图论最短路径，抽象成图论问题，二维平面的搜索问题，拓扑排序，双向BFS等\n",
    "### 通常借助队列实现,这种问题（可能）可以转化为深度优先搜索递归实现\n",
    "\n",
    "#### 100 相同的树：用两个队列，或者一个队列一次入两个比较\n",
    "#### 101 对称二叉树：左右各一个入队比较\n",
    "#### 102\n",
    "#### 103\n",
    "#### 104\n",
    "#### 107\n",
    "#### 111\n",
    "#### 116\n",
    "#### 117\n",
    "#### 126 广度优先搜索和双向广度优先搜索\n",
    "#### 127 \n",
    "#### 130 被围绕的区域：二维平面的搜索问题\n",
    "#### 542 01矩阵\n",
    "https://leetcode-cn.com/tag/breadth-first-search/problemset/"
   ]
  }
 ],
 "metadata": {
  "language_info": {
   "name": "python"
  },
  "orig_nbformat": 4
 },
 "nbformat": 4,
 "nbformat_minor": 2
}
